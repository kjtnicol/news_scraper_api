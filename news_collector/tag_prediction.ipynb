{
 "cells": [
  {
   "cell_type": "code",
   "execution_count": 44,
   "metadata": {},
   "outputs": [],
   "source": [
    "import pymongo\n",
    "import sys\n",
    "import importlib\n",
    "import pandas as pd\n",
    "sys.path.append(r'C:\\work\\src\\news_scraper')"
   ]
  },
  {
   "cell_type": "code",
   "execution_count": 16,
   "metadata": {},
   "outputs": [],
   "source": [
    "import dao.mongodb_dao\n",
    "importlib.reload(dao.mongodb_dao)\n",
    "from dao.mongodb_dao import MongoDbDao"
   ]
  },
  {
   "cell_type": "code",
   "execution_count": 12,
   "metadata": {},
   "outputs": [],
   "source": [
    "from news_collector import app_config"
   ]
  },
  {
   "cell_type": "markdown",
   "metadata": {},
   "source": [
    "# Retrieve Data from MongoDB database, and filter out NaNs"
   ]
  },
  {
   "cell_type": "code",
   "execution_count": 17,
   "metadata": {},
   "outputs": [],
   "source": [
    "mongo_dao = MongoDbDao(app_config.db_conn_string)"
   ]
  },
  {
   "cell_type": "code",
   "execution_count": 92,
   "metadata": {},
   "outputs": [],
   "source": [
    "df = mongo_dao.get_df_from_db(collection_name=app_config.collection_name, no_id=False)"
   ]
  },
  {
   "cell_type": "code",
   "execution_count": 93,
   "metadata": {},
   "outputs": [],
   "source": [
    "df = df[['tag_text', 'article_text']]"
   ]
  },
  {
   "cell_type": "code",
   "execution_count": 94,
   "metadata": {},
   "outputs": [],
   "source": [
    "filtered_df = df[df['article_text'].apply(lambda x: len(x) > 0)]"
   ]
  },
  {
   "cell_type": "code",
   "execution_count": 95,
   "metadata": {},
   "outputs": [
    {
     "data": {
      "text/plain": [
       "275"
      ]
     },
     "execution_count": 95,
     "metadata": {},
     "output_type": "execute_result"
    }
   ],
   "source": [
    "len(filtered_df)"
   ]
  },
  {
   "cell_type": "markdown",
   "metadata": {},
   "source": [
    "# Firstly, add category_id to each row, and create mapping dictionaries"
   ]
  },
  {
   "cell_type": "code",
   "execution_count": 96,
   "metadata": {},
   "outputs": [
    {
     "name": "stderr",
     "output_type": "stream",
     "text": [
      "C:\\ProgramData\\Anaconda3\\lib\\site-packages\\ipykernel_launcher.py:1: SettingWithCopyWarning: \n",
      "A value is trying to be set on a copy of a slice from a DataFrame.\n",
      "Try using .loc[row_indexer,col_indexer] = value instead\n",
      "\n",
      "See the caveats in the documentation: http://pandas.pydata.org/pandas-docs/stable/indexing.html#indexing-view-versus-copy\n",
      "  \"\"\"Entry point for launching an IPython kernel.\n"
     ]
    }
   ],
   "source": [
    "filtered_df['category_id'] = filtered_df['tag_text'].factorize()[0]"
   ]
  },
  {
   "cell_type": "code",
   "execution_count": 97,
   "metadata": {},
   "outputs": [],
   "source": [
    "category_id_df = filtered_df[['tag_text', 'category_id']].drop_duplicates().sort_values('category_id')\n",
    "category_to_id = dict(category_id_df.values)\n",
    "id_to_category = dict(category_id_df[['category_id', 'tag_text']].values)"
   ]
  },
  {
   "cell_type": "markdown",
   "metadata": {},
   "source": [
    "# Check distributions with bar chart"
   ]
  },
  {
   "cell_type": "code",
   "execution_count": 98,
   "metadata": {},
   "outputs": [
    {
     "data": {
      "image/png": "[encoded data removed]",
      "text/plain": [
       "<Figure size 576x432 with 1 Axes>"
      ]
     },
     "metadata": {
      "needs_background": "light"
     },
     "output_type": "display_data"
    }
   ],
   "source": [
    "import matplotlib.pyplot as plt\n",
    "fig = plt.figure(figsize=(8,6))\n",
    "filtered_df.groupby('tag_text')['article_text'].count().plot.bar(ylim=0)\n",
    "plt.show()"
   ]
  },
  {
   "cell_type": "markdown",
   "metadata": {},
   "source": [
    "# Apply TfidfVectorizer: Term-Frequency Inverse Document Frequency\n",
    "- Scoring words on each document, give higher scores on frequent words on the specific category (Term-Frequency), weight down on words that are used on whole documents (Inverse Document Frequency)\n",
    "- The result of fit_transform is features that contains Tfidf scores of words."
   ]
  },
  {
   "cell_type": "code",
   "execution_count": 99,
   "metadata": {},
   "outputs": [
    {
     "data": {
      "text/plain": [
       "(275, 3050)"
      ]
     },
     "execution_count": 99,
     "metadata": {},
     "output_type": "execute_result"
    }
   ],
   "source": [
    "from sklearn.feature_extraction.text import TfidfVectorizer\n",
    "\n",
    "tfidf = TfidfVectorizer(sublinear_tf=True, min_df=5, norm='l2', encoding='latin-1', ngram_range=(1, 2), stop_words='english')\n",
    "features = tfidf.fit_transform(filtered_df['article_text']).toarray()\n",
    "labels = filtered_df.category_id\n",
    "features.shape"
   ]
  },
  {
   "cell_type": "markdown",
   "metadata": {},
   "source": [
    "# Apply Chi-square to features to select terms with two highest scores"
   ]
  },
  {
   "cell_type": "code",
   "execution_count": 100,
   "metadata": {},
   "outputs": [
    {
     "name": "stdout",
     "output_type": "stream",
     "text": [
      "# 'Africa':\n",
      "  . Most correlated unigrams:\n",
      ". photos\n",
      ". reuters\n",
      "  . Most correlated bigrams:\n",
      ". want make\n",
      ". world week\n",
      "# 'Arts':\n",
      "  . Most correlated unigrams:\n",
      ". magazine\n",
      ". ultimate\n",
      "  . Most correlated bigrams:\n",
      ". told bbc\n",
      ". year old\n",
      "# 'Asia':\n",
      "  . Most correlated unigrams:\n",
      ". documentary\n",
      ". wearing\n",
      "  . Most correlated bigrams:\n",
      ". vice president\n",
      ". human rights\n",
      "# 'Australia':\n",
      "  . Most correlated unigrams:\n",
      ". melbourne\n",
      ". australian\n",
      "  . Most correlated bigrams:\n",
      ". media reported\n",
      ". police say\n",
      "# 'BBC Three':\n",
      "  . Most correlated unigrams:\n",
      ". surrounded\n",
      ". drinking\n",
      "  . Most correlated bigrams:\n",
      ". told bbc\n",
      ". year old\n",
      "# 'Business':\n",
      "  . Most correlated unigrams:\n",
      ". invest\n",
      ". revenues\n",
      "  . Most correlated bigrams:\n",
      ". chief executive\n",
      ". says mr\n",
      "# 'Capital':\n",
      "  . Most correlated unigrams:\n",
      ". jobs\n",
      ". class\n",
      "  . Most correlated bigrams:\n",
      ". capital head\n",
      ". bbc capital\n",
      "# 'Cricket':\n",
      "  . Most correlated unigrams:\n",
      ". captain\n",
      ". cricket\n",
      "  . Most correlated bigrams:\n",
      ". bbc sport\n",
      ". south africa\n",
      "# 'Culture':\n",
      "  . Most correlated unigrams:\n",
      ". masterpieces\n",
      ". cinema\n",
      "  . Most correlated bigrams:\n",
      ". language films\n",
      ". bbc culture\n",
      "# 'Designed':\n",
      "  . Most correlated unigrams:\n",
      ". sky\n",
      ". spectacular\n",
      "  . Most correlated bigrams:\n",
      ". like comment\n",
      ". culture head\n",
      "# 'Earth':\n",
      "  . Most correlated unigrams:\n",
      ". 18\n",
      ". reference\n",
      "  . Most correlated bigrams:\n",
      ". told bbc\n",
      ". year old\n",
      "# 'England':\n",
      "  . Most correlated unigrams:\n",
      ". storm\n",
      ". trick\n",
      "  . Most correlated bigrams:\n",
      ". said ve\n",
      ". police said\n",
      "# 'Entertainment & Arts':\n",
      "  . Most correlated unigrams:\n",
      ". suggestion\n",
      ". bbcnewsents\n",
      "  . Most correlated bigrams:\n",
      ". instagram bbcnewsents\n",
      ". email entertainment\n",
      "# 'Europe':\n",
      "  . Most correlated unigrams:\n",
      ". nazi\n",
      ". bones\n",
      "  . Most correlated bigrams:\n",
      ". mr trump\n",
      ". world war\n",
      "# 'European Football':\n",
      "  . Most correlated unigrams:\n",
      ". belgium\n",
      ". goals\n",
      "  . Most correlated bigrams:\n",
      ". semi final\n",
      ". nations league\n",
      "# 'Football':\n",
      "  . Most correlated unigrams:\n",
      ". knee\n",
      ". league\n",
      "  . Most correlated bigrams:\n",
      ". second half\n",
      ". nations league\n",
      "# 'Formula 1':\n",
      "  . Most correlated unigrams:\n",
      ". race\n",
      ". prix\n",
      "  . Most correlated bigrams:\n",
      ". south korea\n",
      ". grand prix\n",
      "# 'Future':\n",
      "  . Most correlated unigrams:\n",
      ". 900\n",
      ". climate\n",
      "  . Most correlated bigrams:\n",
      ". 000 future\n",
      ". climate change\n",
      "# 'Good Food':\n",
      "  . Most correlated unigrams:\n",
      ". incident\n",
      ". experienced\n",
      "  . Most correlated bigrams:\n",
      ". told bbc\n",
      ". year old\n",
      "# 'Health':\n",
      "  . Most correlated unigrams:\n",
      ". cells\n",
      ". cancer\n",
      "  . Most correlated bigrams:\n",
      ". people uk\n",
      ". thousands people\n",
      "# 'Ideas':\n",
      "  . Most correlated unigrams:\n",
      ". 2018\n",
      ". 26\n",
      "  . Most correlated bigrams:\n",
      ". told bbc\n",
      ". year old\n",
      "# 'In Pictures':\n",
      "  . Most correlated unigrams:\n",
      ". belong\n",
      ". photographs\n",
      "  . Most correlated bigrams:\n",
      ". world week\n",
      ". photographs taken\n",
      "# 'Latin America & Caribbean':\n",
      "  . Most correlated unigrams:\n",
      ". mexico\n",
      ". migrants\n",
      "  . Most correlated bigrams:\n",
      ". news agency\n",
      ". latin america\n",
      "# 'Leicester':\n",
      "  . Most correlated unigrams:\n",
      ". moments\n",
      ". cleared\n",
      "  . Most correlated bigrams:\n",
      ". facebook twitter\n",
      ". twitter instagram\n",
      "# 'Middle East':\n",
      "  . Most correlated unigrams:\n",
      ". israel\n",
      ". coalition\n",
      "  . Most correlated bigrams:\n",
      ". prime minister\n",
      ". told reporters\n",
      "# 'Motorsport':\n",
      "  . Most correlated unigrams:\n",
      ". speed\n",
      ". photographers\n",
      "  . Most correlated bigrams:\n",
      ". social media\n",
      ". grand prix\n",
      "# 'News':\n",
      "  . Most correlated unigrams:\n",
      ". press\n",
      ". association\n",
      "  . Most correlated bigrams:\n",
      ". told bbc\n",
      ". year old\n",
      "# 'Newsbeat':\n",
      "  . Most correlated unigrams:\n",
      ". listen\n",
      ". celebrities\n",
      "  . Most correlated bigrams:\n",
      ". facebook twitter\n",
      ". bbc radio\n",
      "# 'Reel':\n",
      "  . Most correlated unigrams:\n",
      ". 16th\n",
      ". comeback\n",
      "  . Most correlated bigrams:\n",
      ". told bbc\n",
      ". year old\n",
      "# 'Rugby League':\n",
      "  . Most correlated unigrams:\n",
      ". player\n",
      ". tries\n",
      "  . Most correlated bigrams:\n",
      ". world cup\n",
      ". police said\n",
      "# 'Rugby Union':\n",
      "  . Most correlated unigrams:\n",
      ". momentum\n",
      ". ben\n",
      "  . Most correlated bigrams:\n",
      ". year old\n",
      ". south africa\n",
      "# 'Science & Environment':\n",
      "  . Most correlated unigrams:\n",
      ". dr\n",
      ". scientists\n",
      "  . Most correlated bigrams:\n",
      ". climate change\n",
      ". said dr\n",
      "# 'Sport':\n",
      "  . Most correlated unigrams:\n",
      ". check\n",
      ". gallery\n",
      "  . Most correlated bigrams:\n",
      ". world week\n",
      ". photographs taken\n",
      "# 'Stories':\n",
      "  . Most correlated unigrams:\n",
      ". thinks\n",
      ". danger\n",
      "  . Most correlated bigrams:\n",
      ". 10 years\n",
      ". feel like\n",
      "# 'Technology':\n",
      "  . Most correlated unigrams:\n",
      ". app\n",
      ". tech\n",
      "  . Most correlated bigrams:\n",
      ". chief executive\n",
      ". york times\n",
      "# 'Tennis':\n",
      "  . Most correlated unigrams:\n",
      ". kevin\n",
      ". djokovic\n",
      "  . Most correlated bigrams:\n",
      ". quarter final\n",
      ". semi finals\n",
      "# 'Top Gear':\n",
      "  . Most correlated unigrams:\n",
      ". 18\n",
      ". reference\n",
      "  . Most correlated bigrams:\n",
      ". told bbc\n",
      ". year old\n",
      "# 'Travel':\n",
      "  . Most correlated unigrams:\n",
      ". clothing\n",
      ". dishes\n",
      "  . Most correlated bigrams:\n",
      ". million bbc\n",
      ". bbc travel\n",
      "# 'UK':\n",
      "  . Most correlated unigrams:\n",
      ". pilot\n",
      ". alcohol\n",
      "  . Most correlated bigrams:\n",
      ". lot people\n",
      ". pleaded guilty\n",
      "# 'UK Politics':\n",
      "  . Most correlated unigrams:\n",
      ". ministers\n",
      ". eu\n",
      "  . Most correlated bigrams:\n",
      ". cabinet ministers\n",
      ". uk eu\n",
      "# 'US':\n",
      "  . Most correlated unigrams:\n",
      ". election\n",
      ". senate\n",
      "  . Most correlated bigrams:\n",
      ". term elections\n",
      ". mid term\n",
      "# 'US & Canada':\n",
      "  . Most correlated unigrams:\n",
      ". senator\n",
      ". trump\n",
      "  . Most correlated bigrams:\n",
      ". white house\n",
      ". saudi arabia\n",
      "# 'World':\n",
      "  . Most correlated unigrams:\n",
      ". investigators\n",
      ". happening\n",
      "  . Most correlated bigrams:\n",
      ". saudi arabia\n",
      ". new york\n"
     ]
    }
   ],
   "source": [
    "from sklearn.feature_selection import chi2\n",
    "import numpy as np\n",
    "N = 2\n",
    "for tag, category_id in sorted(category_to_id.items()):\n",
    "  features_chi2 = chi2(features, labels == category_id)\n",
    "  indices = np.argsort(features_chi2[0])\n",
    "  feature_names = np.array(tfidf.get_feature_names())[indices]\n",
    "  unigrams = [v for v in feature_names if len(v.split(' ')) == 1]\n",
    "  bigrams = [v for v in feature_names if len(v.split(' ')) == 2]\n",
    "  print(\"# '{}':\".format(tag))\n",
    "  print(\"  . Most correlated unigrams:\\n. {}\".format('\\n. '.join(unigrams[-N:])))\n",
    "  print(\"  . Most correlated bigrams:\\n. {}\".format('\\n. '.join(bigrams[-N:])))"
   ]
  },
  {
   "cell_type": "markdown",
   "metadata": {},
   "source": [
    "# Multi-Class Classifier: Features and Design\n",
    "- To train supervised classifiers, we first transformed the “article_text” into a vector of numbers. We explored vector representations such as TF-IDF weighted vectors.\n",
    "- After having this vector representations of the text we can train supervised classifiers to train unseen “article_text” and predict the “tag_text” on which they fall.\n",
    "\n",
    "After all the above data transformation, now that we have all the features and labels, it is time to train the classifiers. There are a number of algorithms we can use for this type of problem.\n",
    "\n",
    "- Naive Bayes Classifier: the one most suitable for word counts is the multinomial variant:"
   ]
  },
  {
   "cell_type": "code",
   "execution_count": 101,
   "metadata": {},
   "outputs": [],
   "source": [
    "from sklearn.model_selection import train_test_split\n",
    "from sklearn.feature_extraction.text import CountVectorizer\n",
    "from sklearn.feature_extraction.text import TfidfTransformer\n",
    "from sklearn.naive_bayes import MultinomialNB\n",
    "X_train, X_test, y_train, y_test = train_test_split(filtered_df['article_text'], filtered_df['tag_text'], random_state = 0)\n",
    "count_vect = CountVectorizer()\n",
    "X_train_counts = count_vect.fit_transform(X_train)\n",
    "tfidf_transformer = TfidfTransformer()\n",
    "X_train_tfidf = tfidf_transformer.fit_transform(X_train_counts)\n",
    "clf = MultinomialNB().fit(X_train_tfidf, y_train)"
   ]
  },
  {
   "cell_type": "code",
   "execution_count": 110,
   "metadata": {},
   "outputs": [
    {
     "name": "stdout",
     "output_type": "stream",
     "text": [
      "['Business']\n"
     ]
    }
   ],
   "source": [
    "print(clf.predict(count_vect.transform([filtered_df['article_text'].iloc[5]])))"
   ]
  },
  {
   "cell_type": "code",
   "execution_count": 111,
   "metadata": {},
   "outputs": [
    {
     "data": {
      "text/plain": [
       "'Science & Environment'"
      ]
     },
     "execution_count": 111,
     "metadata": {},
     "output_type": "execute_result"
    }
   ],
   "source": [
    "filtered_df['tag_text'].iloc[5]"
   ]
  },
  {
   "cell_type": "markdown",
   "metadata": {},
   "source": [
    "# Model Selection\n",
    "We are now ready to experiment with different machine learning models, evaluate their accuracy and find the source of any potential issues.\n",
    "\n",
    "We will benchmark the following four models:\n",
    "\n",
    "- Logistic Regression\n",
    "- (Multinomial) Naive Bayes\n",
    "- Linear Support Vector Machine\n",
    "- Random Forest"
   ]
  },
  {
   "cell_type": "code",
   "execution_count": 112,
   "metadata": {},
   "outputs": [
    {
     "name": "stderr",
     "output_type": "stream",
     "text": [
      "C:\\ProgramData\\Anaconda3\\lib\\site-packages\\sklearn\\model_selection\\_split.py:626: Warning: The least populated class in y has only 1 members, which is too few. The minimum number of members in any class cannot be less than n_splits=5.\n",
      "  % (min_groups, self.n_splits)), Warning)\n",
      "C:\\ProgramData\\Anaconda3\\lib\\site-packages\\sklearn\\model_selection\\_split.py:626: Warning: The least populated class in y has only 1 members, which is too few. The minimum number of members in any class cannot be less than n_splits=5.\n",
      "  % (min_groups, self.n_splits)), Warning)\n",
      "C:\\ProgramData\\Anaconda3\\lib\\site-packages\\sklearn\\model_selection\\_split.py:626: Warning: The least populated class in y has only 1 members, which is too few. The minimum number of members in any class cannot be less than n_splits=5.\n",
      "  % (min_groups, self.n_splits)), Warning)\n",
      "C:\\ProgramData\\Anaconda3\\lib\\site-packages\\sklearn\\model_selection\\_split.py:626: Warning: The least populated class in y has only 1 members, which is too few. The minimum number of members in any class cannot be less than n_splits=5.\n",
      "  % (min_groups, self.n_splits)), Warning)\n",
      "C:\\ProgramData\\Anaconda3\\lib\\site-packages\\sklearn\\linear_model\\logistic.py:432: FutureWarning: Default solver will be changed to 'lbfgs' in 0.22. Specify a solver to silence this warning.\n",
      "  FutureWarning)\n",
      "C:\\ProgramData\\Anaconda3\\lib\\site-packages\\sklearn\\linear_model\\logistic.py:459: FutureWarning: Default multi_class will be changed to 'auto' in 0.22. Specify the multi_class option to silence this warning.\n",
      "  \"this warning.\", FutureWarning)\n",
      "C:\\ProgramData\\Anaconda3\\lib\\site-packages\\sklearn\\linear_model\\logistic.py:432: FutureWarning: Default solver will be changed to 'lbfgs' in 0.22. Specify a solver to silence this warning.\n",
      "  FutureWarning)\n",
      "C:\\ProgramData\\Anaconda3\\lib\\site-packages\\sklearn\\linear_model\\logistic.py:459: FutureWarning: Default multi_class will be changed to 'auto' in 0.22. Specify the multi_class option to silence this warning.\n",
      "  \"this warning.\", FutureWarning)\n",
      "C:\\ProgramData\\Anaconda3\\lib\\site-packages\\sklearn\\linear_model\\logistic.py:432: FutureWarning: Default solver will be changed to 'lbfgs' in 0.22. Specify a solver to silence this warning.\n",
      "  FutureWarning)\n",
      "C:\\ProgramData\\Anaconda3\\lib\\site-packages\\sklearn\\linear_model\\logistic.py:459: FutureWarning: Default multi_class will be changed to 'auto' in 0.22. Specify the multi_class option to silence this warning.\n",
      "  \"this warning.\", FutureWarning)\n",
      "C:\\ProgramData\\Anaconda3\\lib\\site-packages\\sklearn\\linear_model\\logistic.py:432: FutureWarning: Default solver will be changed to 'lbfgs' in 0.22. Specify a solver to silence this warning.\n",
      "  FutureWarning)\n",
      "C:\\ProgramData\\Anaconda3\\lib\\site-packages\\sklearn\\linear_model\\logistic.py:459: FutureWarning: Default multi_class will be changed to 'auto' in 0.22. Specify the multi_class option to silence this warning.\n",
      "  \"this warning.\", FutureWarning)\n",
      "C:\\ProgramData\\Anaconda3\\lib\\site-packages\\sklearn\\linear_model\\logistic.py:432: FutureWarning: Default solver will be changed to 'lbfgs' in 0.22. Specify a solver to silence this warning.\n",
      "  FutureWarning)\n",
      "C:\\ProgramData\\Anaconda3\\lib\\site-packages\\sklearn\\linear_model\\logistic.py:459: FutureWarning: Default multi_class will be changed to 'auto' in 0.22. Specify the multi_class option to silence this warning.\n",
      "  \"this warning.\", FutureWarning)\n"
     ]
    },
    {
     "data": {
      "image/png": "[encoded data removed]",
      "text/plain": [
       "<Figure size 432x288 with 1 Axes>"
      ]
     },
     "metadata": {
      "needs_background": "light"
     },
     "output_type": "display_data"
    }
   ],
   "source": [
    "from sklearn.linear_model import LogisticRegression\n",
    "from sklearn.ensemble import RandomForestClassifier\n",
    "from sklearn.svm import LinearSVC\n",
    "from sklearn.model_selection import cross_val_score\n",
    "models = [\n",
    "    RandomForestClassifier(n_estimators=200, max_depth=3, random_state=0),\n",
    "    LinearSVC(),\n",
    "    MultinomialNB(),\n",
    "    LogisticRegression(random_state=0),\n",
    "]\n",
    "CV = 5\n",
    "cv_df = pd.DataFrame(index=range(CV * len(models)))\n",
    "entries = []\n",
    "for model in models:\n",
    "  model_name = model.__class__.__name__\n",
    "  accuracies = cross_val_score(model, features, labels, scoring='accuracy', cv=CV)\n",
    "  for fold_idx, accuracy in enumerate(accuracies):\n",
    "    entries.append((model_name, fold_idx, accuracy))\n",
    "cv_df = pd.DataFrame(entries, columns=['model_name', 'fold_idx', 'accuracy'])\n",
    "import seaborn as sns\n",
    "sns.boxplot(x='model_name', y='accuracy', data=cv_df)\n",
    "sns.stripplot(x='model_name', y='accuracy', data=cv_df, \n",
    "              size=8, jitter=True, edgecolor=\"gray\", linewidth=2)\n",
    "plt.show()"
   ]
  },
  {
   "cell_type": "code",
   "execution_count": 113,
   "metadata": {},
   "outputs": [
    {
     "data": {
      "text/plain": [
       "model_name\n",
       "LinearSVC                 0.666456\n",
       "LogisticRegression        0.416665\n",
       "MultinomialNB             0.329173\n",
       "RandomForestClassifier    0.304893\n",
       "Name: accuracy, dtype: float64"
      ]
     },
     "execution_count": 113,
     "metadata": {},
     "output_type": "execute_result"
    }
   ],
   "source": [
    "cv_df.groupby('model_name').accuracy.mean()"
   ]
  },
  {
   "cell_type": "markdown",
   "metadata": {},
   "source": [
    "# Proceed with the best model\n",
    "- Obtain confusion matrix to check the accuracy with heatmap"
   ]
  },
  {
   "cell_type": "code",
   "execution_count": 114,
   "metadata": {},
   "outputs": [
    {
     "data": {
      "image/png": "[encoded data removed]",
      "text/plain": [
       "<Figure size 720x720 with 2 Axes>"
      ]
     },
     "metadata": {
      "needs_background": "light"
     },
     "output_type": "display_data"
    }
   ],
   "source": [
    "model = LinearSVC()\n",
    "X_train, X_test, y_train, y_test, indices_train, indices_test = train_test_split(features, labels, filtered_df.index, test_size=0.33, random_state=0)\n",
    "model.fit(X_train, y_train)\n",
    "y_pred = model.predict(X_test)\n",
    "from sklearn.metrics import confusion_matrix\n",
    "conf_mat = confusion_matrix(y_test, y_pred)\n",
    "fig, ax = plt.subplots(figsize=(10,10))\n",
    "sns.heatmap(conf_mat, annot=True, fmt='d',\n",
    "            xticklabels=category_id_df['tag_text'].values, yticklabels=category_id_df['tag_text'].values)\n",
    "plt.ylabel('Actual')\n",
    "plt.xlabel('Predicted')\n",
    "plt.show()"
   ]
  },
  {
   "cell_type": "markdown",
   "metadata": {},
   "source": [
    "# Check mis-predicted data"
   ]
  },
  {
   "cell_type": "code",
   "execution_count": 115,
   "metadata": {},
   "outputs": [
    {
     "name": "stdout",
     "output_type": "stream",
     "text": [
      "'Leicester' predicted as 'Cricket' : 3 examples.\n"
     ]
    },
    {
     "data": {
      "text/html": [
       "<div>\n",
       "<style>\n",
       "    .dataframe thead tr:only-child th {\n",
       "        text-align: right;\n",
       "    }\n",
       "\n",
       "    .dataframe thead th {\n",
       "        text-align: left;\n",
       "    }\n",
       "\n",
       "    .dataframe tbody tr th {\n",
       "        vertical-align: top;\n",
       "    }\n",
       "</style>\n",
       "<table border=\"1\" class=\"dataframe\">\n",
       "  <thead>\n",
       "    <tr style=\"text-align: right;\">\n",
       "      <th></th>\n",
       "      <th>tag_text</th>\n",
       "      <th>article_text</th>\n",
       "    </tr>\n",
       "  </thead>\n",
       "  <tbody>\n",
       "  </tbody>\n",
       "</table>\n",
       "</div>"
      ],
      "text/plain": [
       "Empty DataFrame\n",
       "Columns: [tag_text, article_text]\n",
       "Index: []"
      ]
     },
     "metadata": {},
     "output_type": "display_data"
    },
    {
     "name": "stdout",
     "output_type": "stream",
     "text": [
      "\n",
      "'Technology' predicted as 'Reel' : 3 examples.\n"
     ]
    },
    {
     "data": {
      "text/html": [
       "<div>\n",
       "<style>\n",
       "    .dataframe thead tr:only-child th {\n",
       "        text-align: right;\n",
       "    }\n",
       "\n",
       "    .dataframe thead th {\n",
       "        text-align: left;\n",
       "    }\n",
       "\n",
       "    .dataframe tbody tr th {\n",
       "        vertical-align: top;\n",
       "    }\n",
       "</style>\n",
       "<table border=\"1\" class=\"dataframe\">\n",
       "  <thead>\n",
       "    <tr style=\"text-align: right;\">\n",
       "      <th></th>\n",
       "      <th>tag_text</th>\n",
       "      <th>article_text</th>\n",
       "    </tr>\n",
       "  </thead>\n",
       "  <tbody>\n",
       "  </tbody>\n",
       "</table>\n",
       "</div>"
      ],
      "text/plain": [
       "Empty DataFrame\n",
       "Columns: [tag_text, article_text]\n",
       "Index: []"
      ]
     },
     "metadata": {},
     "output_type": "display_data"
    },
    {
     "name": "stdout",
     "output_type": "stream",
     "text": [
      "\n",
      "'Science & Environment' predicted as 'Reel' : 3 examples.\n"
     ]
    },
    {
     "data": {
      "text/html": [
       "<div>\n",
       "<style>\n",
       "    .dataframe thead tr:only-child th {\n",
       "        text-align: right;\n",
       "    }\n",
       "\n",
       "    .dataframe thead th {\n",
       "        text-align: left;\n",
       "    }\n",
       "\n",
       "    .dataframe tbody tr th {\n",
       "        vertical-align: top;\n",
       "    }\n",
       "</style>\n",
       "<table border=\"1\" class=\"dataframe\">\n",
       "  <thead>\n",
       "    <tr style=\"text-align: right;\">\n",
       "      <th></th>\n",
       "      <th>tag_text</th>\n",
       "      <th>article_text</th>\n",
       "    </tr>\n",
       "  </thead>\n",
       "  <tbody>\n",
       "  </tbody>\n",
       "</table>\n",
       "</div>"
      ],
      "text/plain": [
       "Empty DataFrame\n",
       "Columns: [tag_text, article_text]\n",
       "Index: []"
      ]
     },
     "metadata": {},
     "output_type": "display_data"
    },
    {
     "name": "stdout",
     "output_type": "stream",
     "text": [
      "\n"
     ]
    }
   ],
   "source": [
    "from IPython.display import display\n",
    "for predicted in category_id_df.category_id:\n",
    "  for actual in category_id_df.category_id:\n",
    "    if (actual >= len(conf_mat)) or (predicted >= conf_mat.shape[1]):\n",
    "        continue\n",
    "    if predicted != actual and conf_mat[actual, predicted] >= 3:\n",
    "      print(\"'{}' predicted as '{}' : {} examples.\".format(id_to_category[actual], id_to_category[predicted], conf_mat[actual, predicted]))\n",
    "      display(filtered_df.loc[indices_test[(y_test == actual) & (y_pred == predicted)]][['tag_text', 'article_text']])\n",
    "      print('')"
   ]
  },
  {
   "cell_type": "markdown",
   "metadata": {},
   "source": [
    "# Check top unigrams and bigrams with the chosen model"
   ]
  },
  {
   "cell_type": "code",
   "execution_count": 116,
   "metadata": {},
   "outputs": [
    {
     "name": "stdout",
     "output_type": "stream",
     "text": [
      "# 'Africa':\n",
      "  . Top unigrams:\n",
      "       . reuters\n",
      "       . photos\n",
      "  . Top bigrams:\n",
      "       . world week\n",
      "       . want make\n",
      "# 'Arts':\n",
      "  . Top unigrams:\n",
      "       . ultimate\n",
      "       . magazine\n",
      "  . Top bigrams:\n",
      "       . things like\n",
      "       . don like\n",
      "# 'Asia':\n",
      "  . Top unigrams:\n",
      "       . chinese\n",
      "       . saying\n",
      "  . Top bigrams:\n",
      "       . human rights\n",
      "       . vice president\n",
      "# 'Australia':\n",
      "  . Top unigrams:\n",
      "       . australian\n",
      "       . melbourne\n",
      "  . Top bigrams:\n",
      "       . media reported\n",
      "       . earlier month\n",
      "# 'BBC Three':\n",
      "  . Top unigrams:\n",
      "       . drinking\n",
      "       . surrounded\n",
      "  . Top bigrams:\n",
      "       . bbc travel\n",
      "       . 10 years\n",
      "# 'Business':\n",
      "  . Top unigrams:\n",
      "       . business\n",
      "       . company\n",
      "  . Top bigrams:\n",
      "       . says mr\n",
      "       . chief executive\n",
      "# 'Capital':\n",
      "  . Top unigrams:\n",
      "       . class\n",
      "       . jobs\n",
      "  . Top bigrams:\n",
      "       . bbc capital\n",
      "       . capital head\n",
      "# 'Cricket':\n",
      "  . Top unigrams:\n",
      "       . cricket\n",
      "       . test\n",
      "  . Top bigrams:\n",
      "       . south africa\n",
      "       . bbc sport\n",
      "# 'Culture':\n",
      "  . Top unigrams:\n",
      "       . cinema\n",
      "       . films\n",
      "  . Top bigrams:\n",
      "       . bbc culture\n",
      "       . language films\n",
      "# 'Designed':\n",
      "  . Top unigrams:\n",
      "       . sky\n",
      "       . spectacular\n",
      "  . Top bigrams:\n",
      "       . like comment\n",
      "       . culture head\n",
      "# 'Earth':\n",
      "  . Top unigrams:\n",
      "       . reference\n",
      "       . 18\n",
      "  . Top bigrams:\n",
      "       . says mr\n",
      "       . making sure\n",
      "# 'England':\n",
      "  . Top unigrams:\n",
      "       . trick\n",
      "       . storm\n",
      "  . Top bigrams:\n",
      "       . police said\n",
      "       . said ve\n",
      "# 'Entertainment & Arts':\n",
      "  . Top unigrams:\n",
      "       . bbcnewsents\n",
      "       . suggestion\n",
      "  . Top bigrams:\n",
      "       . bbcnewsents instagram\n",
      "       . news bbc\n",
      "# 'Europe':\n",
      "  . Top unigrams:\n",
      "       . french\n",
      "       . nazi\n",
      "  . Top bigrams:\n",
      "       . mr trump\n",
      "       . lot time\n",
      "# 'European Football':\n",
      "  . Top unigrams:\n",
      "       . goals\n",
      "       . champions\n",
      "  . Top bigrams:\n",
      "       . make sure\n",
      "       . nations league\n",
      "# 'Football':\n",
      "  . Top unigrams:\n",
      "       . knee\n",
      "       . league\n",
      "  . Top bigrams:\n",
      "       . second half\n",
      "       . nations league\n",
      "# 'Formula 1':\n",
      "  . Top unigrams:\n",
      "       . race\n",
      "       . prix\n",
      "  . Top bigrams:\n",
      "       . grand prix\n",
      "       . south korea\n",
      "# 'Future':\n",
      "  . Top unigrams:\n",
      "       . climate\n",
      "       . battle\n",
      "  . Top bigrams:\n",
      "       . climate change\n",
      "       . join 900\n",
      "# 'Good Food':\n",
      "  . Top unigrams:\n",
      "       . experienced\n",
      "       . incident\n",
      "  . Top bigrams:\n",
      "       . 20 years\n",
      "       . said want\n",
      "# 'Health':\n",
      "  . Top unigrams:\n",
      "       . cancer\n",
      "       . cells\n",
      "  . Top bigrams:\n",
      "       . years ago\n",
      "       . people uk\n",
      "# 'Ideas':\n",
      "  . Top unigrams:\n",
      "       . 2018\n",
      "       . 26\n",
      "  . Top bigrams:\n",
      "       . withdrawal agreement\n",
      "       . years later\n",
      "# 'In Pictures':\n",
      "  . Top unigrams:\n",
      "       . photographs\n",
      "       . belong\n",
      "  . Top bigrams:\n",
      "       . photographs taken\n",
      "       . world war\n",
      "# 'Latin America & Caribbean':\n",
      "  . Top unigrams:\n",
      "       . migrants\n",
      "       . mexico\n",
      "  . Top bigrams:\n",
      "       . latin america\n",
      "       . 000 people\n",
      "# 'Leicester':\n",
      "  . Top unigrams:\n",
      "       . cleared\n",
      "       . pilot\n",
      "  . Top bigrams:\n",
      "       . twitter instagram\n",
      "       . facebook twitter\n",
      "# 'Middle East':\n",
      "  . Top unigrams:\n",
      "       . coalition\n",
      "       . israel\n",
      "  . Top bigrams:\n",
      "       . prime minister\n",
      "       . told reporters\n",
      "# 'Motorsport':\n",
      "  . Top unigrams:\n",
      "       . photographers\n",
      "       . speed\n",
      "  . Top bigrams:\n",
      "       . social media\n",
      "       . grand prix\n",
      "# 'News':\n",
      "  . Top unigrams:\n",
      "       . association\n",
      "       . press\n",
      "  . Top bigrams:\n",
      "       . don think\n",
      "       . said don\n",
      "# 'Newsbeat':\n",
      "  . Top unigrams:\n",
      "       . box\n",
      "       . celebrities\n",
      "  . Top bigrams:\n",
      "       . bbc radio\n",
      "       . facebook twitter\n",
      "# 'Reel':\n",
      "  . Top unigrams:\n",
      "       . largely\n",
      "       . field\n",
      "  . Top bigrams:\n",
      "       . really good\n",
      "       . 29 march\n",
      "# 'Rugby League':\n",
      "  . Top unigrams:\n",
      "       . player\n",
      "       . investigation\n",
      "  . Top bigrams:\n",
      "       . police said\n",
      "       . world cup\n",
      "# 'Rugby Union':\n",
      "  . Top unigrams:\n",
      "       . ben\n",
      "       . george\n",
      "  . Top bigrams:\n",
      "       . south africa\n",
      "       . 20 years\n",
      "# 'Science & Environment':\n",
      "  . Top unigrams:\n",
      "       . scientists\n",
      "       . dr\n",
      "  . Top bigrams:\n",
      "       . said dr\n",
      "       . bbc news\n",
      "# 'Sport':\n",
      "  . Top unigrams:\n",
      "       . gallery\n",
      "       . check\n",
      "  . Top bigrams:\n",
      "       . photographs taken\n",
      "       . world week\n",
      "# 'Stories':\n",
      "  . Top unigrams:\n",
      "       . danger\n",
      "       . couldn\n",
      "  . Top bigrams:\n",
      "       . 10 years\n",
      "       . feel like\n",
      "# 'Technology':\n",
      "  . Top unigrams:\n",
      "       . tech\n",
      "       . company\n",
      "  . Top bigrams:\n",
      "       . york times\n",
      "       . 20 years\n",
      "# 'Tennis':\n",
      "  . Top unigrams:\n",
      "       . djokovic\n",
      "       . serve\n",
      "  . Top bigrams:\n",
      "       . semi finals\n",
      "       . quarter final\n",
      "# 'Top Gear':\n",
      "  . Top unigrams:\n",
      "       . reference\n",
      "       . 18\n",
      "  . Top bigrams:\n",
      "       . says mr\n",
      "       . 10 years\n",
      "# 'Travel':\n",
      "  . Top unigrams:\n",
      "       . money\n",
      "       . live\n",
      "  . Top bigrams:\n",
      "       . bbc travel\n",
      "       . travel fans\n",
      "# 'UK':\n",
      "  . Top unigrams:\n",
      "       . alcohol\n",
      "       . drinking\n",
      "  . Top bigrams:\n",
      "       . lot people\n",
      "       . pleaded guilty\n",
      "# 'UK Politics':\n",
      "  . Top unigrams:\n",
      "       . eu\n",
      "       . ministers\n",
      "  . Top bigrams:\n",
      "       . uk eu\n",
      "       . cabinet ministers\n",
      "# 'US':\n",
      "  . Top unigrams:\n",
      "       . election\n",
      "       . trump\n",
      "  . Top bigrams:\n",
      "       . mid term\n",
      "       . los angeles\n",
      "# 'US & Canada':\n",
      "  . Top unigrams:\n",
      "       . trump\n",
      "       . senator\n",
      "  . Top bigrams:\n",
      "       . white house\n",
      "       . saudi arabia\n",
      "# 'World':\n",
      "  . Top unigrams:\n",
      "       . happening\n",
      "       . investigators\n",
      "  . Top bigrams:\n",
      "       . new york\n",
      "       . saudi arabia\n"
     ]
    }
   ],
   "source": [
    "model = LinearSVC()\n",
    "model.fit(features, labels)\n",
    "N = 2\n",
    "for tag, category_id in sorted(category_to_id.items()):\n",
    "  indices = np.argsort(model.coef_[category_id])\n",
    "  feature_names = np.array(tfidf.get_feature_names())[indices]\n",
    "  unigrams = [v for v in reversed(feature_names) if len(v.split(' ')) == 1][:N]\n",
    "  bigrams = [v for v in reversed(feature_names) if len(v.split(' ')) == 2][:N]\n",
    "  print(\"# '{}':\".format(tag))\n",
    "  print(\"  . Top unigrams:\\n       . {}\".format('\\n       . '.join(unigrams)))\n",
    "  print(\"  . Top bigrams:\\n       . {}\".format('\\n       . '.join(bigrams)))"
   ]
  },
  {
   "cell_type": "code",
   "execution_count": 117,
   "metadata": {},
   "outputs": [],
   "source": [
    "# y_test could have missing ids if the number of samples is not sufficiently big.\n",
    "def find_missing_idx(idx_series, whole_ids):\n",
    "    total_num = len(whole_ids.unique())\n",
    "    missing_numbers = [x for x in range(0, total_num) if x not in idx_series.unique()]\n",
    "    return missing_numbers"
   ]
  },
  {
   "cell_type": "code",
   "execution_count": 118,
   "metadata": {},
   "outputs": [
    {
     "name": "stdout",
     "output_type": "stream",
     "text": [
      "                           precision    recall  f1-score   support\n",
      "\n",
      "               Technology       0.50      0.20      0.29         5\n",
      "                   Future       1.00      0.67      0.80         3\n",
      "                   Travel       0.67      1.00      0.80         2\n",
      "                    World       0.00      0.00      0.00         1\n",
      "    Science & Environment       0.71      0.83      0.77         6\n",
      "                     Asia       0.00      0.00      0.00         5\n",
      "                 Football       1.00      1.00      1.00         7\n",
      "                  Cricket       1.00      1.00      1.00         2\n",
      "                     Reel       0.40      0.67      0.50         6\n",
      "                Australia       0.50      0.40      0.44         5\n",
      "                 Business       0.27      1.00      0.42         4\n",
      "                  Culture       1.00      0.33      0.50         3\n",
      "                  Capital       0.75      1.00      0.86         6\n",
      "                BBC Three       0.00      0.00      0.00         1\n",
      "                 Designed       1.00      1.00      1.00         1\n",
      "     Entertainment & Arts       0.83      1.00      0.91         5\n",
      "                   Health       0.00      0.00      0.00         1\n",
      "              In Pictures       0.67      1.00      0.80         4\n",
      "Latin America & Caribbean       1.00      0.50      0.67         2\n",
      "                Leicester       0.00      0.00      0.00         1\n",
      "                       UK       0.00      0.00      0.00         1\n",
      "        European Football       1.00      1.00      1.00         1\n",
      "                   Europe       1.00      0.25      0.40         8\n",
      "              US & Canada       0.50      0.50      0.50         2\n",
      "              UK Politics       0.67      1.00      0.80         2\n",
      "                       US       0.00      0.00      0.00         1\n",
      "                Formula 1       1.00      0.50      0.67         2\n",
      "                    Earth       0.00      0.00      0.00         1\n",
      "              Middle East       1.00      1.00      1.00         1\n",
      "               Motorsport       1.00      1.00      1.00         1\n",
      "                     News       0.00      0.00      0.00         1\n",
      "\n",
      "                micro avg       0.64      0.62      0.63        91\n",
      "                macro avg       0.56      0.54      0.52        91\n",
      "             weighted avg       0.65      0.62      0.58        91\n",
      "\n"
     ]
    },
    {
     "name": "stderr",
     "output_type": "stream",
     "text": [
      "C:\\ProgramData\\Anaconda3\\lib\\site-packages\\sklearn\\metrics\\classification.py:1143: UndefinedMetricWarning: Precision and F-score are ill-defined and being set to 0.0 in labels with no predicted samples.\n",
      "  'precision', 'predicted', average, warn_for)\n"
     ]
    }
   ],
   "source": [
    "from sklearn import metrics\n",
    "# target_names_list = filtered_df['tag_text'].unique()\n",
    "missing_ids = find_missing_idx(y_test, filtered_df['tag_text'])\n",
    "target_names_list = category_id_df[~category_id_df['category_id'].isin(missing_ids)]['tag_text'].tolist()\n",
    "target_labels_list = category_id_df[~category_id_df['category_id'].isin(missing_ids)]['category_id'].tolist()\n",
    "print(metrics.classification_report(y_test, y_pred, target_names=target_names_list, labels=target_labels_list))"
   ]
  },
  {
   "cell_type": "code",
   "execution_count": null,
   "metadata": {},
   "outputs": [],
   "source": []
  }
 ],
 "metadata": {
  "kernelspec": {
   "display_name": "Python 3",
   "language": "python",
   "name": "python3"
  },
  "language_info": {
   "codemirror_mode": {
    "name": "ipython",
    "version": 3
   },
   "file_extension": ".py",
   "mimetype": "text/x-python",
   "name": "python",
   "nbconvert_exporter": "python",
   "pygments_lexer": "ipython3",
   "version": "3.6.7"
  }
 },
 "nbformat": 4,
 "nbformat_minor": 1
}
